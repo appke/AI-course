{
 "cells": [
  {
   "cell_type": "markdown",
   "metadata": {},
   "source": [
    "# 1. 训练模型 （数据清理、特征化）\n",
    "# 2. 预测"
   ]
  },
  {
   "cell_type": "code",
   "execution_count": 1,
   "metadata": {},
   "outputs": [],
   "source": [
    "import jieba"
   ]
  },
  {
   "cell_type": "code",
   "execution_count": 3,
   "metadata": {},
   "outputs": [],
   "source": [
    "cuts= jieba.lcut('标准间太差 房间还不如3星的 而且设施非常陈旧.建议酒店把老的标准间从新改善.')"
   ]
  },
  {
   "cell_type": "code",
   "execution_count": 4,
   "metadata": {},
   "outputs": [
    {
     "data": {
      "text/plain": [
       "['标准间',\n",
       " '太',\n",
       " '差',\n",
       " ' ',\n",
       " '房间',\n",
       " '还',\n",
       " '不如',\n",
       " '3',\n",
       " '星',\n",
       " '的',\n",
       " ' ',\n",
       " '而且',\n",
       " '设施',\n",
       " '非常',\n",
       " '陈旧',\n",
       " '.',\n",
       " '建议',\n",
       " '酒店',\n",
       " '把',\n",
       " '老',\n",
       " '的',\n",
       " '标准间',\n",
       " '从',\n",
       " '新',\n",
       " '改善',\n",
       " '.']"
      ]
     },
     "execution_count": 4,
     "metadata": {},
     "output_type": "execute_result"
    }
   ],
   "source": [
    "cuts"
   ]
  },
  {
   "cell_type": "code",
   "execution_count": 5,
   "metadata": {},
   "outputs": [
    {
     "data": {
      "text/plain": [
       "26"
      ]
     },
     "execution_count": 5,
     "metadata": {},
     "output_type": "execute_result"
    }
   ],
   "source": [
    "len(cuts)"
   ]
  },
  {
   "cell_type": "code",
   "execution_count": null,
   "metadata": {},
   "outputs": [],
   "source": [
    "'设施' '非常', '陈旧'"
   ]
  },
  {
   "cell_type": "code",
   "execution_count": null,
   "metadata": {},
   "outputs": [],
   "source": []
  },
  {
   "cell_type": "code",
   "execution_count": null,
   "metadata": {},
   "outputs": [],
   "source": []
  },
  {
   "cell_type": "code",
   "execution_count": 9,
   "metadata": {},
   "outputs": [],
   "source": [
    "import pandas as pd\n",
    "import numpy as np\n",
    "import jieba\n",
    "import jieba.posseg as pseg\n",
    "from sklearn.feature_extraction.text import CountVectorizer,TfidfVectorizer\n",
    "from sklearn.naive_bayes import BernoulliNB\n",
    "from sklearn.naive_bayes import MultinomialNB\n",
    "from sklearn.model_selection import train_test_split  \n",
    "from sklearn.metrics import roc_curve\n",
    "from sklearn.metrics import roc_auc_score\n",
    "import matplotlib.pyplot as plt"
   ]
  },
  {
   "cell_type": "code",
   "execution_count": 10,
   "metadata": {},
   "outputs": [],
   "source": [
    "stop_list=list(set(pd.read_table('chinese-stopword.txt',sep='\\t',names=['stop'])['stop']))"
   ]
  },
  {
   "cell_type": "code",
   "execution_count": 11,
   "metadata": {},
   "outputs": [],
   "source": [
    "def is_chinese(uchar):\n",
    "#   判断一个unicode是否是汉字\n",
    "    if uchar >= u'\\u4e00' and uchar <= u'\\u9fa5':\n",
    "        return True\n",
    "    else:\n",
    "        return False"
   ]
  },
  {
   "cell_type": "code",
   "execution_count": 12,
   "metadata": {},
   "outputs": [],
   "source": [
    "def get_data_df():\n",
    "#   获取正负例dataframe 和 停用词list\n",
    "    neg_df=pd.read_table('neg.txt',sep='\\t',names=['label','chat'])\n",
    "    pos_df=pd.read_table('pos.txt',sep='\\t',names=['label','chat'])\n",
    "    stop_list=list(set(pd.read_table('chinese-stopword.txt',sep='\\t',names=['stop'])['stop']))\n",
    "    return neg_df,pos_df,stop_list"
   ]
  },
  {
   "cell_type": "code",
   "execution_count": 13,
   "metadata": {},
   "outputs": [],
   "source": [
    "def jieba_getdata(str_str,stopwords=stop_list):\n",
    "#   结巴切词\n",
    "    cut_list=jieba.lcut(str_str)\n",
    "    cut_list=[iword for iword in cut_list if iword not in stopwords]\n",
    "    cut_list=[iword for iword in cut_list if is_chinese(iword) is True]\n",
    "    cut_str=' '.join(cut_list)\n",
    "    return cut_str"
   ]
  },
  {
   "cell_type": "code",
   "execution_count": 14,
   "metadata": {},
   "outputs": [],
   "source": [
    "def jieba_getdata_adjective(str_str,stopwords=stop_list):\n",
    "#   利用结巴词性标注的选取形容词\n",
    "    words=pseg.cut(str_str)\n",
    "    cut_list=[i.word for i in words if i.flag=='a']\n",
    "    cut_list=[iword for iword in cut_list if iword not in stopwords]\n",
    "    cut_list=[iword for iword in cut_list if is_chinese(iword) is True]\n",
    "    cut_str=' '.join(cut_list)\n",
    "    return cut_str"
   ]
  },
  {
   "cell_type": "code",
   "execution_count": 15,
   "metadata": {},
   "outputs": [],
   "source": [
    "def get_cut_word(method_select):\n",
    "#   选取两种方式进行切词 : jieba_getdata_adjective or jieba_getdata\n",
    "    neg_df,pos_df,stop_list = get_data_df()\n",
    "    neg_df['cut']=neg_df['chat'].map(str).apply(method_select)\n",
    "    del neg_df['chat']\n",
    "    pos_df['cut']=pos_df['chat'].map(str).apply(method_select)\n",
    "    del pos_df['chat']\n",
    "    return neg_df,pos_df"
   ]
  },
  {
   "cell_type": "code",
   "execution_count": 16,
   "metadata": {},
   "outputs": [],
   "source": [
    "def get_xdata_label(method_select):\n",
    "#   词频特征的向量化\n",
    "    neg_df,pos_df = get_cut_word(method_select)\n",
    "    xdata=[]\n",
    "    ylabel=[]\n",
    "    neg_pos = pd.concat([neg_df,pos_df])\n",
    "    for i in range(len(neg_pos)):\n",
    "        ixdata = neg_pos.iloc[i,1]\n",
    "        ilabel = neg_pos.iloc[i,0]\n",
    "        if ixdata!='':\n",
    "            xdata.append(ixdata)\n",
    "            ylabel.append(ilabel)\n",
    "    return xdata,ylabel"
   ]
  },
  {
   "cell_type": "code",
   "execution_count": 21,
   "metadata": {},
   "outputs": [],
   "source": [
    "neg_df,pos_df,stop_list = get_data_df()"
   ]
  },
  {
   "cell_type": "code",
   "execution_count": 22,
   "metadata": {},
   "outputs": [
    {
     "data": {
      "text/html": [
       "<div>\n",
       "<style scoped>\n",
       "    .dataframe tbody tr th:only-of-type {\n",
       "        vertical-align: middle;\n",
       "    }\n",
       "\n",
       "    .dataframe tbody tr th {\n",
       "        vertical-align: top;\n",
       "    }\n",
       "\n",
       "    .dataframe thead th {\n",
       "        text-align: right;\n",
       "    }\n",
       "</style>\n",
       "<table border=\"1\" class=\"dataframe\">\n",
       "  <thead>\n",
       "    <tr style=\"text-align: right;\">\n",
       "      <th></th>\n",
       "      <th>label</th>\n",
       "      <th>chat</th>\n",
       "    </tr>\n",
       "  </thead>\n",
       "  <tbody>\n",
       "    <tr>\n",
       "      <th>0</th>\n",
       "      <td>-1</td>\n",
       "      <td>标准间太差房间还不如3星的而且设施非常陈旧.建议酒店把老的标准间从新改善.</td>\n",
       "    </tr>\n",
       "    <tr>\n",
       "      <th>1</th>\n",
       "      <td>-1</td>\n",
       "      <td>服务态度极其差，前台接待好象没有受过培训，连基本的礼貌都不懂，竟然同时接待几个客人；大堂副理...</td>\n",
       "    </tr>\n",
       "    <tr>\n",
       "      <th>2</th>\n",
       "      <td>-1</td>\n",
       "      <td>地理位置还不错，到哪里都比较方便，但是服务不象是豪生集团管理的，比较差。下午睡了一觉并洗了一...</td>\n",
       "    </tr>\n",
       "    <tr>\n",
       "      <th>3</th>\n",
       "      <td>-1</td>\n",
       "      <td>1。我住的是靠马路的标准间。房间内设施简陋，并且的房间玻璃窗户外还有一层幕墙玻璃，而且不能打...</td>\n",
       "    </tr>\n",
       "    <tr>\n",
       "      <th>4</th>\n",
       "      <td>-1</td>\n",
       "      <td>我这次是第5次住在长春的雁鸣湖大酒店。昨晚夜里停电。深夜我睡着了。我的钱包被内贼进入我的房间...</td>\n",
       "    </tr>\n",
       "  </tbody>\n",
       "</table>\n",
       "</div>"
      ],
      "text/plain": [
       "   label                                               chat\n",
       "0     -1              标准间太差房间还不如3星的而且设施非常陈旧.建议酒店把老的标准间从新改善.\n",
       "1     -1  服务态度极其差，前台接待好象没有受过培训，连基本的礼貌都不懂，竟然同时接待几个客人；大堂副理...\n",
       "2     -1  地理位置还不错，到哪里都比较方便，但是服务不象是豪生集团管理的，比较差。下午睡了一觉并洗了一...\n",
       "3     -1  1。我住的是靠马路的标准间。房间内设施简陋，并且的房间玻璃窗户外还有一层幕墙玻璃，而且不能打...\n",
       "4     -1  我这次是第5次住在长春的雁鸣湖大酒店。昨晚夜里停电。深夜我睡着了。我的钱包被内贼进入我的房间..."
      ]
     },
     "execution_count": 22,
     "metadata": {},
     "output_type": "execute_result"
    }
   ],
   "source": [
    "neg_df.head()"
   ]
  },
  {
   "cell_type": "code",
   "execution_count": 23,
   "metadata": {},
   "outputs": [],
   "source": [
    "xdata,ylabel=get_xdata_label(jieba_getdata)"
   ]
  },
  {
   "cell_type": "code",
   "execution_count": 24,
   "metadata": {},
   "outputs": [
    {
     "data": {
      "text/plain": [
       "['标准间 太 差 房间 星 设施 陈旧 建议 酒店 标准间 新 改善',\n",
       " '服务态度 差 前台 接待 好象 受过 培训 礼貌 懂 接待 几个 客人 大堂 副理 差 客人 辩解 没完 总经理 电话 投诉 不敢 作 亏心事 情 跟本 不用',\n",
       " '地理位置 不错 比较 方便 服务 象是 豪生 集团 管理 比较 差 下午 睡 一觉 洗 一个 澡 本来 想 酒店 打扫 一下 打开 请 打扫 服务 灯 晚上 回 酒店 发现 打扫 服务 灯 关掉 房间 打扫',\n",
       " '住 马路 标准间 房间内 设施 简陋 房间 玻璃窗 户外 一层 幕墙 玻璃 打开 导致 房间 自然通风 采光 不好 吃 三顿 早餐 品种 少得 可怜 二楼 餐厅 租出去 价格 特贵 原来 订餐 时告 房客 九折 房间 服务指南 里 明明白白 写 结帐 时 告 海鲜 酒水 打折 发票 找 经理 好不容易 第二天 拿到 发票 综合 四星级 差距 太大',\n",
       " '次住 长春 雁鸣 湖 大酒店 昨晚 夜里 停电 深夜 睡着 钱包 贼 进入 房间 偷 元 张 信用卡 证件 外币 数码相机 房间 保险箱 里 原封不动 好几个 小时 长途电话 处理 信用卡 冻结 报案 星 酒店 保安 摄像 探头 坏 修理 保安 查房 卡 入门 时间 其他人 深夜 进入 房间 贼 高明 方式 进入 羽绒服 贼 放在 地上 醒来时 多想 中午 时 发觉 钱包 少 现金 信用卡 这家 酒店 态度 很差 同情心 之前 授权 元 国际 电话 银行 说 两天 前 我入 酒店 元 授权 酒店 财务 不领情 说 中国银行 授权 国际 电话 银行 说 这家 星级 酒店 负责 认为 发生 报案 下次 再也 不住 星 不到 服务态度 可耻 事件 说 想定 酒店 住客 酒店 停电 摄像头 坏 太 知道 这种 贼 行为 强力 打击 说 千元 丢 小事 酒店 处理 态度 反感 强力 告诉 提醒 其他人 酒店',\n",
       " '前台 花 分钟 分钟 这是 服务态度 做到 位 信用卡 刷 几次 愿意 手工 打电话 授权 典型 国营企业 极差 服务态度',\n",
       " '房 梯部 不吸 吸者 有服 抽 成 二手 受害者 中 人口 中 民 不到 看到 民',\n",
       " '酒店 服务态度 极差 设施 很差 建议',\n",
       " '预定 标间 说 会议 房间 我订 房间 太 讲 信誉 下次 再也不会 住',\n",
       " '房间 环境 差 房间 隔音 住 舒服']"
      ]
     },
     "execution_count": 24,
     "metadata": {},
     "output_type": "execute_result"
    }
   ],
   "source": [
    "xdata[0:10]"
   ]
  },
  {
   "cell_type": "code",
   "execution_count": 25,
   "metadata": {},
   "outputs": [
    {
     "data": {
      "text/plain": [
       "[-1, -1, -1, -1, -1, -1, -1, -1, -1, -1]"
      ]
     },
     "execution_count": 25,
     "metadata": {},
     "output_type": "execute_result"
    }
   ],
   "source": [
    "ylabel[0:10]"
   ]
  },
  {
   "cell_type": "code",
   "execution_count": 26,
   "metadata": {},
   "outputs": [],
   "source": [
    "# 统计词频作为特征\n",
    "count_vec = CountVectorizer() #实例化\n",
    "X_count_train = count_vec.fit_transform(xdata)  \n",
    "# X_count_data = count_vec.transform(xdata)\n",
    "X_train_count, X_test_count, y_train_count, y_test_count = \\\n",
    "    train_test_split(X_count_train, ylabel, test_size=0.25)  "
   ]
  },
  {
   "cell_type": "code",
   "execution_count": 24,
   "metadata": {},
   "outputs": [
    {
     "data": {
      "text/plain": [
       "<7422x25803 sparse matrix of type '<class 'numpy.int64'>'\n",
       "\twith 212736 stored elements in Compressed Sparse Row format>"
      ]
     },
     "execution_count": 24,
     "metadata": {},
     "output_type": "execute_result"
    }
   ],
   "source": [
    "X_train_count"
   ]
  },
  {
   "cell_type": "code",
   "execution_count": 27,
   "metadata": {},
   "outputs": [],
   "source": [
    "# tf-idf作为特征\n",
    "tfidf_vec = TfidfVectorizer()\n",
    "X_tfidf_train = tfidf_vec.fit_transform(xdata)  \n",
    "# X_tfidf_data = tfidf_vec.transform(xdata)\n",
    "X_train_tfidf, X_test_tfidf, y_train_tfidf, y_test_tfidf = \\\n",
    "    train_test_split(X_tfidf_train, ylabel, test_size=0.25)  \n"
   ]
  },
  {
   "cell_type": "code",
   "execution_count": 28,
   "metadata": {},
   "outputs": [],
   "source": [
    "# 引入模型\n",
    "mnb_count = MultinomialNB()\n",
    "bnb_count = BernoulliNB()\n",
    "mnb_tfidf = MultinomialNB()\n",
    "bnb_tfidf = BernoulliNB()"
   ]
  },
  {
   "cell_type": "code",
   "execution_count": 29,
   "metadata": {},
   "outputs": [],
   "source": [
    "# 准备模型评估特征\n",
    "mnb_count.fit(X_train_count,y_train_count)\n",
    "bnb_count.fit(X_train_count,y_train_count)\n",
    "mnb_tfidf.fit(X_train_tfidf,y_train_tfidf)\n",
    "bnb_tfidf.fit(X_train_tfidf,y_train_tfidf)\n",
    "\n",
    "y_pred_count_mnb = mnb_count.predict_proba(X_test_count)[:,1]\n",
    "fpr_count_mnb, tpr_count_mnb, _ = roc_curve(y_test_count, y_pred_count_mnb) #roc曲线\n",
    "\n",
    "y_pred_count_bnb = bnb_count.predict_proba(X_test_count)[:,1]\n",
    "fpr_count_bnb, tpr_count_bnb, _ = roc_curve(y_test_count, y_pred_count_bnb) #roc曲线\n",
    "\n",
    "y_pred_tfidf_mnb = mnb_tfidf.predict_proba(X_test_tfidf)[:,1]\n",
    "fpr_tfidf_mnb, tpr_tfidf_mnb, _ = roc_curve(y_test_tfidf, y_pred_tfidf_mnb) #roc曲线\n",
    "\n",
    "y_pred_tfidf_bnb = bnb_tfidf.predict_proba(X_test_tfidf)[:,1]\n",
    "fpr_tfidf_bnb, tpr_tfidf_bnb, _ = roc_curve(y_test_tfidf, y_pred_tfidf_bnb) #roc曲线\n"
   ]
  },
  {
   "cell_type": "code",
   "execution_count": 30,
   "metadata": {},
   "outputs": [
    {
     "data": {
      "image/png": "[encoded data removed]",
      "text/plain": [
       "<Figure size 432x288 with 1 Axes>"
      ]
     },
     "metadata": {
      "needs_background": "light"
     },
     "output_type": "display_data"
    },
    {
     "name": "stdout",
     "output_type": "stream",
     "text": [
      "AUC MultinomialNB COUNT Score (Train): 0.936143\n",
      "AUC BernoulliNB COUNT Score (Train): 0.892806\n",
      "AUC MultinomialNB TFIDF Score (Train): 0.930744\n",
      "AUC BernoulliNB TFIDF Score (Train): 0.885390\n"
     ]
    }
   ],
   "source": [
    "plt.figure(1)\n",
    "plt.plot([0, 1], [0, 1], 'k--')\n",
    "plt.plot(fpr_count_mnb, tpr_count_mnb, label='MultinomialNB count')\n",
    "plt.plot(fpr_count_bnb, tpr_count_bnb, label='BernoulliNB count')\n",
    "plt.plot(fpr_tfidf_mnb, tpr_tfidf_mnb, label='MultinomialNB tfidf')\n",
    "plt.plot(fpr_tfidf_bnb, tpr_tfidf_bnb, label='BernoulliNB tfidf')\n",
    "plt.xlabel('False positive rate')\n",
    "plt.ylabel('True positive rate')\n",
    "plt.title('ROC curve')\n",
    "plt.legend(loc='best')\n",
    "plt.show()\n",
    "print(\"AUC MultinomialNB COUNT Score (Train): %f\" % roc_auc_score(y_test_count, y_pred_count_mnb))\n",
    "print (\"AUC BernoulliNB COUNT Score (Train): %f\" % roc_auc_score(y_test_count, y_pred_count_bnb))\n",
    "print(\"AUC MultinomialNB TFIDF Score (Train): %f\" % roc_auc_score(y_test_tfidf, y_pred_tfidf_mnb))\n",
    "print (\"AUC BernoulliNB TFIDF Score (Train): %f\" % roc_auc_score(y_test_tfidf, y_pred_tfidf_bnb))"
   ]
  },
  {
   "cell_type": "code",
   "execution_count": 31,
   "metadata": {},
   "outputs": [
    {
     "data": {
      "text/plain": [
       "['BAYES_COUNT_CLASSIFICATION.pkl']"
      ]
     },
     "execution_count": 31,
     "metadata": {},
     "output_type": "execute_result"
    }
   ],
   "source": [
    "# save model\n",
    "from sklearn.externals import joblib\n",
    "model_save=[mnb_count,count_vec]\n",
    "joblib.dump(model_save, 'BAYES_COUNT_CLASSIFICATION.pkl')"
   ]
  },
  {
   "cell_type": "code",
   "execution_count": 26,
   "metadata": {},
   "outputs": [
    {
     "data": {
      "text/plain": [
       "array([-1,  1])"
      ]
     },
     "execution_count": 26,
     "metadata": {},
     "output_type": "execute_result"
    }
   ],
   "source": [
    "mnb_count.classes_"
   ]
  },
  {
   "cell_type": "code",
   "execution_count": null,
   "metadata": {
    "collapsed": true
   },
   "outputs": [],
   "source": []
  }
 ],
 "metadata": {
  "anaconda-cloud": {},
  "kernelspec": {
   "display_name": "python37",
   "language": "python",
   "name": "python37"
  },
  "language_info": {
   "codemirror_mode": {
    "name": "ipython",
    "version": 3
   },
   "file_extension": ".py",
   "mimetype": "text/x-python",
   "name": "python",
   "nbconvert_exporter": "python",
   "pygments_lexer": "ipython3",
   "version": "3.7.1"
  }
 },
 "nbformat": 4,
 "nbformat_minor": 2
}
